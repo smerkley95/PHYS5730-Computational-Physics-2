{
 "cells": [
  {
   "cell_type": "markdown",
   "id": "6e332306",
   "metadata": {},
   "source": [
    "# Physics 5730 - Homework 2"
   ]
  },
  {
   "cell_type": "code",
   "execution_count": 4,
   "id": "7eb04faa",
   "metadata": {},
   "outputs": [
    {
     "data": {
      "text/html": [
       "<style>.container { width:75% !important; }</style>"
      ],
      "text/plain": [
       "<IPython.core.display.HTML object>"
      ]
     },
     "metadata": {},
     "output_type": "display_data"
    }
   ],
   "source": [
    "from IPython.core.display import display, HTML\n",
    "display(HTML(\"<style>.container { width:75% !important; }</style>\"))"
   ]
  },
  {
   "cell_type": "markdown",
   "id": "5040a34b",
   "metadata": {},
   "source": [
    "## Problem 1\n",
    "\n",
    "Consider a binomial distribution, which describes the probability of k successes in n Bernoulli trials as follows: \n",
    "\n",
    "$$ f = {{n}\\choose{k}} p^{k} (1 - p)^{n - k} $$\n",
    "\n",
    "where ${n}\\choose{k}$ is the binomial coefficient n_choose_k (this is provided numerically by python function scipy.special.comb).\n",
    "Now let’s say that we flipped a coin with bias p many times (n) and observed some successes (k). Here n and k are known and we want to determine the bias p as well as place error bars on our estimate.\n",
    "1. Calculate analytically Fisher information for n binomial r.v.’s as well as the MLE 𝑝̂ for the bias parameter p.\n",
    "2. Using the results from step 1, provide a numerical means to calculate a 95% C.I. for any given 𝑝̂.\n",
    "3. How well does this approach work? Provide code to test many cases. Identify situations where\n",
    "this approach to C.I. is clearly deficient and explain in your comments or other document the\n",
    "nature of the deficiency.\n",
    "4. Now let us consider the “exact” C.I. which we can construct explicitly from first principles.\n",
    "Start at p=0.5 and lower this parameter value gradually numerically. At every iteration, compute the probability of k or more successes. You can stop right at the point when this net probability becomes lower than 0.025. This value of p is the lower value of the exact confidence limit. Again, start at p=0.5 and raise this parameter value gradually numerically. At every iteration, compute the probability of k or less successes. You can stop right at the point when this net probability becomes lower than 0.025. This value of p is the lower value of the exact confidence limit.\n",
    "Provide code to compute this “exact” C.I. and compare it’s performance with the MLE C.I. in cases where you think MLE C.I. is deficient."
   ]
  },
  {
   "cell_type": "code",
   "execution_count": 1,
   "id": "8dde86ce",
   "metadata": {
    "scrolled": false
   },
   "outputs": [
    {
     "name": "stdout",
     "output_type": "stream",
     "text": [
      "Error bar size is: 0.0281659577374184\n",
      "The 95% confidence interval for P is : \n",
      "(4.476954042262581, 4.5332859577374185)\n",
      "\n",
      "Noisy error bar size is: 0.028231481099308214\n",
      "The 95% confidence interval for noisyP is : \n",
      "(4.486060712763442, 4.542523674962058)\n",
      "\n",
      "The smallest p = 0.338 gives back a probability 0.017 < 0.025\n"
     ]
    }
   ],
   "source": [
    "# Problem 1\n",
    "#\n",
    "# This program\n",
    "#\n",
    "# @author Scott Merkley\n",
    "# @version January 28, 2022\n",
    "\n",
    "import numpy as np\n",
    "import matplotlib.pyplot as plt\n",
    "import scipy as sp\n",
    "from scipy import special\n",
    "from scipy import stats\n",
    "import warnings\n",
    "warnings.filterwarnings('ignore')\n",
    "\n",
    "\n",
    "\n",
    "# Creating N random variables\n",
    "N = 100000\n",
    "\n",
    "### 1.\n",
    "\n",
    "# Using a binomial distribution\n",
    "L = np.random.binomial(10, 0.45, N)\n",
    "pHat = np.mean(L)\n",
    "\n",
    "# Finding the fisher information for 1 and N\n",
    "fisherInformation1 = 1 / (pHat * (1 - pHat))\n",
    "fisherInformationN = N * fisherInformation1\n",
    "\n",
    "# Finding sigma of the data\n",
    "sigma = 1 / np.sqrt(abs(fisherInformationN))\n",
    "\n",
    "# finding the zscore for the data\n",
    "zScore = abs(stats.norm.ppf((1 - 0.975) / 2, loc = 0, scale = 1 ))\n",
    "\n",
    "# Printing error bar size and confidence interval to the user\n",
    "print(f'Error bar size is: {zScore * sigma}')\n",
    "print(f'The 95% confidence interval for P is : \\n{(pHat - zScore * sigma, pHat + zScore * sigma)}')\n",
    "\n",
    "\n",
    "\n",
    "### 2.\n",
    "\n",
    "# Adding error into the system in the form of normal distributed error\n",
    "\n",
    "noisyL = np.random.binomial(10, 0.45, N) + np.random.normal(0, 1, N)\n",
    "noisyPHat = np.sum(noisyL) / N\n",
    "noisyFisherInformation1 = 1 / (noisyPHat * (1 - noisyPHat))\n",
    "noisyFisherInformationN = N * noisyFisherInformation1\n",
    "noisySigma = 1 / np.sqrt(abs(noisyFisherInformationN))\n",
    "noisyZScore = abs(stats.norm.ppf((1 - 0.975) / 2, loc = 0, scale = 1))\n",
    "\n",
    "print(f'\\nNoisy error bar size is: {noisyZScore * noisySigma}')\n",
    "print(f'The 95% confidence interval for noisyP is : \\n{(noisyPHat - noisyZScore * noisySigma, noisyPHat + noisyZScore * noisySigma)}')\n",
    "\n",
    "\n",
    "\n",
    "### 3.\n",
    "\n",
    "# creating a function to quickly plug in different values for N\n",
    "def ConfidenceInterval(N):\n",
    "    # Using a binomial distribution\n",
    "    L = np.random.binomial(10, np.random.random(), N)\n",
    "    pHat = np.sum(L) / N\n",
    "\n",
    "    # Finding the fisher information for 1 and N\n",
    "    fisherInformation1 = 1 / (pHat * (1 - pHat))\n",
    "    fisherInformationN = N * fisherInformation1\n",
    "\n",
    "    # Finding sigma of the data\n",
    "    sigma = 1 / np.sqrt(fisherInformationN)\n",
    "\n",
    "    # finding the zscore for the data\n",
    "    zScore = abs(stats.norm.ppf((1 - 0.975) / 2, loc = 0, scale = 1 ))\n",
    "\n",
    "    # Printing error bar size and confidence interval to the user\n",
    "    print(f'Error bar size is: {zScore * sigma}')\n",
    "    print(f'The 95% confidence interval for P is : \\n{(pHat - zScore * sigma, pHat + zScore * sigma)}')\n",
    "\n",
    "# Run the function multiple times over different values of N\n",
    "# for N in range(1, 10):\n",
    "#     print(f'\\nRun {N}: ')\n",
    "#     ConfidenceInterval(N)\n",
    "\n",
    "\n",
    "\n",
    "### 4.\n",
    "\n",
    "# First we will start by making a function that takes in the parameter p so we can easily plug through these values to find the confidence intervals\n",
    "def MLEConfidenceInterval(p):\n",
    "    N = 1000\n",
    "    \n",
    "    # Using a binomial distribution\n",
    "    L = np.random.binomial(10, p, N)\n",
    "    probL = (sum(L == 0) / N)\n",
    "    \n",
    "    return probL\n",
    "    \n",
    "    \n",
    "for i in range(500, 1, -1):\n",
    "    prob = 0.025\n",
    "    if(MLEConfidenceInterval(i * 1e-3) > prob):\n",
    "        print(f'\\nThe smallest p = {i * 1e-3} gives back a probability {MLEConfidenceInterval(i * 1e-3)} < {prob}')\n",
    "        break\n",
    "    "
   ]
  },
  {
   "cell_type": "code",
   "execution_count": null,
   "id": "04421438",
   "metadata": {},
   "outputs": [],
   "source": []
  },
  {
   "cell_type": "markdown",
   "id": "bd59063d",
   "metadata": {},
   "source": [
    "## Problem 2\n",
    "\n",
    "Write code which estimates the α quantile of the data and its C.I. using empirical likelihood method. For example, if α=0.50 then this would estimate a median (0.50 of the data above the estimate and 0.50 of the data below the estimate). You can assume that the data has no ties."
   ]
  },
  {
   "cell_type": "code",
   "execution_count": 3,
   "id": "e7bd406c",
   "metadata": {
    "scrolled": false
   },
   "outputs": [
    {
     "data": {
      "image/png": "[encoded data removed]",
      "text/plain": [
       "<Figure size 432x288 with 1 Axes>"
      ]
     },
     "metadata": {
      "needs_background": "light"
     },
     "output_type": "display_data"
    },
    {
     "name": "stdout",
     "output_type": "stream",
     "text": [
      "Ground truth: 0.8862269254527579\n",
      "Actual Mean of Data: 0.8825012804774924\n"
     ]
    },
    {
     "data": {
      "image/png": "[encoded data removed]",
      "text/plain": [
       "<Figure size 432x288 with 1 Axes>"
      ]
     },
     "metadata": {
      "needs_background": "light"
     },
     "output_type": "display_data"
    }
   ],
   "source": [
    "# Problem 2\n",
    "#\n",
    "# This program estimates the alpha quantile and its confidence interval using emperical likelihood method\n",
    "#\n",
    "# @author Scott Merkley\n",
    "# @version January 28, 2022\n",
    "\n",
    "import numpy as np\n",
    "import matplotlib.pyplot as plt\n",
    "import scipy.optimize as SciOpt\n",
    "import scipy.special as SciSpec\n",
    "import scipy as sp\n",
    "import scipy.stats as stats\n",
    "import scipy.stats.distributions as spDist\n",
    "\n",
    "N = int(1e4)\n",
    "shape = 2\n",
    "\n",
    "# Creating a random variable vector with Weibull Distribution and shape of 2\n",
    "rvvec = np.random.weibull(shape, (N, 1))\n",
    "\n",
    "# estimating function\n",
    "targetValue = 0.826\n",
    "count = 0\n",
    "for i in range(len(rvvec)):\n",
    "    if(rvvec[i] < targetValue):\n",
    "        count += 1\n",
    "# print((count / len(rvvec)))\n",
    "\n",
    "# Plotting Data\n",
    "plt.title(f'Weibull Distribution With a Mean of {np.mean(rvvec):0.5}')\n",
    "plt.hist(rvvec, 23)\n",
    "plt.grid()\n",
    "plt.show()\n",
    "print(f'Ground truth: {SciSpec.gamma(1 + 1 / shape)}')\n",
    "print(f'Actual Mean of Data: {np.mean(rvvec)}')\n",
    "\n",
    "\n",
    "# Making an ELR function to find the root of data using a given quantile\n",
    "#\n",
    "# @param data - data as an array\n",
    "# @param Val - tentative value for being estimated, for this assignment is the given quantile\n",
    "# @param alpha - desired quantile of data\n",
    "def ELR(data, Val, alpha):\n",
    "    # When averaged over the data dn set to zero gives the desired condition\n",
    "    g = data - np.quantile(Val, alpha) # Change this for this assignment  \\\\np.quantile(rvvec, 0.5)\n",
    "    # find the difference between data and quantile\n",
    "    # Val is the quantile aka. for this 0.5\n",
    "    # qualtile of the data that we are looking at\n",
    "    # data val - 0.5\n",
    "    # np.quantile(0.5, data) - val\n",
    "    constraintEqn = lambda L : sum(g / (1 + g * L)) # Set up Lagrange Multiplier Condition for Lambda\n",
    "    Lam = SciOpt.fsolve(constraintEqn, 0) # just solves the constraint equation for lambda so we have a Lagrange Multiplier\n",
    "    return 2 * np.sum(np.log(1 + Lam * g))\n",
    "\n",
    "\n",
    "N = 100\n",
    "    \n",
    "# Picking ranges for the mean\n",
    "cutoff = 0.04\n",
    "x = np.linspace(np.mean(rvvec) - cutoff, np.mean(rvvec) + cutoff, N)\n",
    "\n",
    "# Setting up an indexing variable (ps. i have never done this before)\n",
    "t = np.linspace(0, len(x) - 1, len(x)).astype(int)\n",
    "\n",
    "# Now its time to start storing some ELR values in y but we are going to initialize it first\n",
    "y = 0 * x\n",
    "\n",
    "# Computing an ELR value for every possible mean value in our range\n",
    "for i in t:\n",
    "    y[i] = ELR(rvvec, x[i], 0.5)\n",
    "    \n",
    "# Plot the output to the user\n",
    "plt.title('ELR Cutoff')\n",
    "plt.plot(x, y, label = 'ELR', linewidth = 2)\n",
    "plt.plot(x, x * 0 + spDist.chi2.ppf(0.975, df = 1), 'r', label = '95% C.I. Cutoff', linewidth = 2)\n",
    "plt.xlabel('Possible Values of Mean')\n",
    "plt.ylabel('ELR')\n",
    "plt.legend()\n",
    "plt.grid()\n",
    "plt.show()\n",
    "\n",
    "minELR = x[np.argmin(y)]"
   ]
  },
  {
   "cell_type": "code",
   "execution_count": null,
   "id": "4c653eca",
   "metadata": {},
   "outputs": [],
   "source": []
  },
  {
   "cell_type": "markdown",
   "id": "80a28576",
   "metadata": {},
   "source": [
    "## Problem 3\n",
    "\n",
    "Conduct a study on how empirical likelihood C.I. estimation works for Generalized Pareto Distribution.\n",
    "\n",
    "$$f(x|K, S, T) = \\frac{1}{S} (1 + K * \\frac{x - T}{S})^{-1-\\frac{1}{K}}$$\n",
    "\n",
    "This distribution has three parameters: tail index (shape) parameter K, scale parameter S, and threshold (location) parameter T. S and T parameters are kind of boring so let’s fix them at S=1 and T=0.\n",
    "- Note 1: In python, you are likely using scipy.stats.genpareto, in which c1ase the choice of S=1 and T=0 is already coded in and you only have the shape parameter (called C rather than K in standard python reference): \n",
    "\n",
    "$$f(x|C) = (1 + C * x)^{-1-\\frac{1}{C}}$$\n",
    "\n",
    "With this simplification, we can focus on the shape parameter and see how well empirical likelihood does for its estimation in the range between $\\frac{1}{2}$ and 2. Comment on any trends you observe as you change the shape parameter.\n",
    "- Note 2: The range between $\\frac{1}{2}$ and 2 was chosen specifically to make this assignment a bit more interesting. Choose your estimating function carefully. Think about error propagation through your computation."
   ]
  },
  {
   "cell_type": "code",
   "execution_count": 13,
   "id": "5e6af29a",
   "metadata": {
    "scrolled": true
   },
   "outputs": [
    {
     "name": "stdout",
     "output_type": "stream",
     "text": [
      "Error bar size is: 0.06444170775912691\n",
      "The 95% confidence interval for P is : \n",
      "(-0.06352454316316448, 0.06535887235508935)\n"
     ]
    }
   ],
   "source": [
    "# Problem 3\n",
    "#\n",
    "# This program is creating a Generalized Pareto Distribution and analyzing it\n",
    "#\n",
    "# @author Scott Merkley\n",
    "# @version January 28, 2022\n",
    "\n",
    "import numpy as np\n",
    "import matplotlib.pyplot as plt\n",
    "import scipy.stats as stats\n",
    "\n",
    "N = 1000\n",
    "C = 0.1\n",
    "\n",
    "x = np.linspace(0.5, 2, N)\n",
    "\n",
    "# Making the ppf of pareto distribution\n",
    "y = stats.genpareto.pdf(x, N)\n",
    "\n",
    "# Plotting the Pareto Distribution\n",
    "# plt.title(\"Pareto Distribution\")\n",
    "# plt.hist(y, np.sqrt(N).astype(int))\n",
    "# plt.grid()\n",
    "# plt.show()\n",
    "\n",
    "\n",
    "# Finding the Confidence Interval for the Pareto Distribution\n",
    "L = y\n",
    "pHat = np.sum(L) / N\n",
    "\n",
    "# Finding the fisher information for 1 and N\n",
    "fisherInformation1 = (- C - 1)**2 / (C * pHat + 1)**2\n",
    "fisherInformationN = N * fisherInformation1\n",
    "\n",
    "# Finding sigma of the data\n",
    "sigma = 1 / np.sqrt(fisherInformationN)\n",
    "\n",
    "# finding the zscore for the data\n",
    "zScore = abs(stats.norm.ppf((1 - 0.975) / 2, loc = 0, scale = 1 ))\n",
    "\n",
    "# Printing error bar size and confidence interval to the user\n",
    "print(f'Error bar size is: {zScore * sigma}')\n",
    "print(f'The 95% confidence interval for P is : \\n{(pHat - zScore * sigma, pHat + zScore * sigma)}')\n"
   ]
  },
  {
   "cell_type": "code",
   "execution_count": null,
   "id": "316b5048",
   "metadata": {},
   "outputs": [],
   "source": []
  }
 ],
 "metadata": {
  "kernelspec": {
   "display_name": "Python 3",
   "language": "python",
   "name": "python3"
  },
  "language_info": {
   "codemirror_mode": {
    "name": "ipython",
    "version": 3
   },
   "file_extension": ".py",
   "mimetype": "text/x-python",
   "name": "python",
   "nbconvert_exporter": "python",
   "pygments_lexer": "ipython3",
   "version": "3.8.8"
  }
 },
 "nbformat": 4,
 "nbformat_minor": 5
}
